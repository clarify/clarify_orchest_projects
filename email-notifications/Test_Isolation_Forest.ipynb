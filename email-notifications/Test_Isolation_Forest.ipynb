{
 "cells": [
  {
   "cell_type": "markdown",
   "metadata": {},
   "source": [
    "# Anomaly Detection\n",
    "\n",
    "# Test with streaming data\n",
    "\n",
    "In the training stage we fitted an Isolation Forest on our data and we saved the model in an `model.sav` file under the /data folder in Orchest. As mendtioned in the [Orchest docs](https://docs.orchest.io/en/latest/index.html): the /data directory is accessible by all pipelines and the jobs will only create a snapshot of the project directory and not the data directory. The smaller the size of the project directory, the smaller the size of the jobs.\n",
    "\n",
    "Here we will get the new data from Clarify and use the predict method from the model in oder to see if a particular sample is an outlier or not.\n",
    "\n",
    "We will also plot similar graphs as in the Training stage notebook."
   ]
  },
  {
   "cell_type": "code",
   "execution_count": null,
   "metadata": {
    "execution": {
     "iopub.execute_input": "2022-04-08T14:07:58.856727Z",
     "iopub.status.busy": "2022-04-08T14:07:58.855980Z",
     "iopub.status.idle": "2022-04-08T14:08:00.020104Z",
     "shell.execute_reply": "2022-04-08T14:08:00.019331Z"
    },
    "tags": []
   },
   "outputs": [],
   "source": [
    "from plotly.graph_objs import Layout, XAxis, YAxis\n",
    "import plotly.graph_objects as go\n",
    "import plotly.express as px\n",
    "\n",
    "from sklearn.ensemble import IsolationForest\n",
    "import pandas as pd\n",
    "import numpy as np\n",
    "\n",
    "import orchest\n",
    "import pickle\n",
    "import json\n",
    "import os"
   ]
  },
  {
   "cell_type": "code",
   "execution_count": null,
   "metadata": {
    "execution": {
     "iopub.execute_input": "2022-04-08T14:08:00.037267Z",
     "iopub.status.busy": "2022-04-08T14:08:00.036953Z",
     "iopub.status.idle": "2022-04-08T14:08:00.044999Z",
     "shell.execute_reply": "2022-04-08T14:08:00.044269Z"
    },
    "tags": []
   },
   "outputs": [],
   "source": [
    "orchest_data = orchest.get_inputs()\n",
    "response = orchest_data[\"response\"]\n",
    "df = response[0]\n",
    "item_name = response[1]\n",
    "hours = response[2]\n",
    "item_id = response[3]\n",
    "try:\n",
    "    dates = df.index\n",
    "    values = sum(df.values.tolist(), [])\n",
    "    print(\"Data received: \")\n",
    "except Exception as e:\n",
    "    print(e)"
   ]
  },
  {
   "cell_type": "code",
   "execution_count": null,
   "metadata": {
    "execution": {
     "iopub.execute_input": "2022-04-08T14:08:00.063422Z",
     "iopub.status.busy": "2022-04-08T14:08:00.062684Z",
     "iopub.status.idle": "2022-04-08T14:08:00.080776Z",
     "shell.execute_reply": "2022-04-08T14:08:00.079980Z"
    },
    "tags": []
   },
   "outputs": [],
   "source": [
    "df = pd.DataFrame(data = {'date': dates, 'x': values})\n",
    "df.head()"
   ]
  },
  {
   "cell_type": "code",
   "execution_count": null,
   "metadata": {
    "execution": {
     "iopub.execute_input": "2022-04-08T14:08:00.098310Z",
     "iopub.status.busy": "2022-04-08T14:08:00.097494Z",
     "iopub.status.idle": "2022-04-08T14:08:00.204258Z",
     "shell.execute_reply": "2022-04-08T14:08:00.203473Z"
    },
    "tags": []
   },
   "outputs": [],
   "source": [
    "fig = go.Figure(data=go.Scatter(x = df['date'], y = df['x'], mode='markers', marker=dict(color='blue', size=5)))\n",
    "fig.update_layout(title = \"New Data points\")\n",
    "fig.update_xaxes(rangeslider_visible=True)\n",
    "fig.show()"
   ]
  },
  {
   "cell_type": "code",
   "execution_count": null,
   "metadata": {
    "execution": {
     "iopub.execute_input": "2022-04-08T14:08:00.221488Z",
     "iopub.status.busy": "2022-04-08T14:08:00.220853Z",
     "iopub.status.idle": "2022-04-08T14:08:00.230418Z",
     "shell.execute_reply": "2022-04-08T14:08:00.229689Z"
    },
    "tags": []
   },
   "outputs": [],
   "source": [
    "print(\"Load the model...\")\n",
    "file = '../data/model.sav'\n",
    "model = pickle.load(open(file, 'rb'))"
   ]
  },
  {
   "cell_type": "code",
   "execution_count": null,
   "metadata": {
    "execution": {
     "iopub.execute_input": "2022-04-08T14:08:00.246125Z",
     "iopub.status.busy": "2022-04-08T14:08:00.245483Z",
     "iopub.status.idle": "2022-04-08T14:08:00.326484Z",
     "shell.execute_reply": "2022-04-08T14:08:00.325717Z"
    },
    "tags": []
   },
   "outputs": [],
   "source": [
    "scores = model.decision_function(df[['x']])\n",
    "l = len(scores)\n",
    "\n",
    "fig = go.Figure(data=go.Scatter(x = np.arange(0,l), y = scores))\n",
    "fig.update_layout(title = \"Score values\")\n",
    "fig.show()"
   ]
  },
  {
   "cell_type": "markdown",
   "metadata": {},
   "source": [
    "We can plot the score values from the new data set. Negative scores represent outliers, positive scores represent normal points. "
   ]
  },
  {
   "cell_type": "code",
   "execution_count": null,
   "metadata": {
    "execution": {
     "iopub.execute_input": "2022-04-08T14:08:00.357383Z",
     "iopub.status.busy": "2022-04-08T14:08:00.356551Z",
     "iopub.status.idle": "2022-04-08T14:08:00.419774Z",
     "shell.execute_reply": "2022-04-08T14:08:00.419192Z"
    },
    "tags": []
   },
   "outputs": [],
   "source": [
    "pred = model.predict(df[['x']])\n",
    "df['anomaly'] = pd.Series(pred)\n",
    "anomaly = df.loc[df['anomaly'] == 1, ['date', 'x']] \n",
    "print(\"The parametres of our model are: \", model.get_params())\n",
    "print(\"Note that in the training stage we set there parameters.\")"
   ]
  },
  {
   "cell_type": "code",
   "execution_count": null,
   "metadata": {
    "execution": {
     "iopub.execute_input": "2022-04-08T14:08:00.436967Z",
     "iopub.status.busy": "2022-04-08T14:08:00.436369Z",
     "iopub.status.idle": "2022-04-08T14:08:00.475059Z",
     "shell.execute_reply": "2022-04-08T14:08:00.474360Z"
    },
    "tags": []
   },
   "outputs": [],
   "source": [
    "fig = go.Figure(data=go.Scatter(x = np.arange(0,len(pred)), y = pred))\n",
    "fig.update_layout(title = \"predict values\")\n",
    "fig.show()"
   ]
  },
  {
   "cell_type": "markdown",
   "metadata": {},
   "source": [
    "The `predict` method returns the values 1 or -1. With -1 are marked the data points which corresponde to a negavive score value and with 1 are marked the data points which corresponde to a positive score value."
   ]
  },
  {
   "cell_type": "code",
   "execution_count": null,
   "metadata": {
    "execution": {
     "iopub.execute_input": "2022-04-08T14:08:00.507099Z",
     "iopub.status.busy": "2022-04-08T14:08:00.506485Z",
     "iopub.status.idle": "2022-04-08T14:08:00.552607Z",
     "shell.execute_reply": "2022-04-08T14:08:00.551790Z"
    },
    "tags": []
   },
   "outputs": [],
   "source": [
    "layout = Layout(\n",
    "    paper_bgcolor='rgba(0,0,0,0)',\n",
    "    plot_bgcolor='rgba(0,0,0,0)', \n",
    "    xaxis=XAxis(showgrid=True, zeroline=True, showline=True, zerolinecolor='#DBDBDB', zerolinewidth=2, gridcolor='#DBDBDB', gridwidth=2,  linecolor='#AFAFAF', linewidth=2),\n",
    "    yaxis=YAxis(showgrid=True, zeroline=True, showline=True, zerolinecolor='#DBDBDB', zerolinewidth=2, gridcolor='#DBDBDB', gridwidth=2, linecolor='#AFAFAF', linewidth=2)\n",
    ")\n",
    "\n",
    "fig = go.Figure(data=go.Scatter(x = df['date'], y = df['x'], mode='lines', name = \"Normal values\", marker=dict(color='blue', size=2)), layout = layout)\n",
    "fig.add_traces(go.Scatter(x = anomaly['date'], y = anomaly['x'], textposition='top left', mode='markers+text', name = \"Anomaly value\", marker=dict(color='red', size=6)))\n",
    "fig.update_layout(title = \"New Data points\")\n",
    "fig.show()"
   ]
  },
  {
   "cell_type": "code",
   "execution_count": null,
   "metadata": {
    "execution": {
     "iopub.execute_input": "2022-04-08T14:08:00.570880Z",
     "iopub.status.busy": "2022-04-08T14:08:00.570354Z",
     "iopub.status.idle": "2022-04-08T14:08:01.389726Z",
     "shell.execute_reply": "2022-04-08T14:08:01.388891Z"
    },
    "tags": []
   },
   "outputs": [],
   "source": [
    "if not anomaly.empty:\n",
    "    print(\"Anomaly points exist\")\n",
    "    fig.write_image(\"../data/plot.pdf\")\n",
    "else:\n",
    "    print(\"No anomaly points\")"
   ]
  },
  {
   "cell_type": "code",
   "execution_count": null,
   "metadata": {
    "execution": {
     "iopub.execute_input": "2022-04-08T14:08:01.412341Z",
     "iopub.status.busy": "2022-04-08T14:08:01.412038Z",
     "iopub.status.idle": "2022-04-08T14:08:01.420545Z",
     "shell.execute_reply": "2022-04-08T14:08:01.419791Z"
    },
    "tags": []
   },
   "outputs": [],
   "source": [
    "# Pass anomaly data to the next step.\n",
    "orchest.output((anomaly, item_name, hours, item_id), name = \"anomaly\")\n",
    "print(\"Done!\")"
   ]
  }
 ],
 "metadata": {
  "kernelspec": {
   "display_name": "Python 3",
   "language": "python",
   "name": "orchest-kernel-69a43e05-ec5e-4c78-884e-d753d093ab81"
  },
  "language_info": {
   "codemirror_mode": {
    "name": "ipython",
    "version": 3
   },
   "file_extension": ".py",
   "mimetype": "text/x-python",
   "name": "python",
   "nbconvert_exporter": "python",
   "pygments_lexer": "ipython3",
   "version": "3.9.10"
  }
 },
 "nbformat": 4,
 "nbformat_minor": 4
}
